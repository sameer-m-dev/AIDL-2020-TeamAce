{
  "nbformat": 4,
  "nbformat_minor": 0,
  "metadata": {
    "colab": {
      "name": "AIDL NB for Demo.ipynb",
      "provenance": [],
      "collapsed_sections": []
    },
    "kernelspec": {
      "name": "python3",
      "display_name": "Python 3"
    }
  },
  "cells": [
    {
      "cell_type": "code",
      "metadata": {
        "id": "MsnPa2cFwr2Z",
        "colab_type": "code",
        "colab": {}
      },
      "source": [
        "# Uncomment below lines on first run\n",
        "# !pip install spacy google-cloud-vision"
      ],
      "execution_count": 0,
      "outputs": []
    },
    {
      "cell_type": "code",
      "metadata": {
        "id": "Cke7hzChzMAz",
        "colab_type": "code",
        "colab": {}
      },
      "source": [
        "# Unzipping model files\n",
        "! unzip models.zip"
      ],
      "execution_count": 0,
      "outputs": []
    },
    {
      "cell_type": "code",
      "metadata": {
        "id": "k0KSuevWv4dd",
        "colab_type": "code",
        "colab": {}
      },
      "source": [
        "# Importing Libraries\n",
        "import spacy\n",
        "import os \n",
        "import json\n",
        "from google.cloud import vision\n",
        "import io\n",
        "\n",
        "# Setting Environment Variable for Vision API\n",
        "os.environ[\"GOOGLE_APPLICATION_CREDENTIALS\"]=\"/content/fyp-bot-fkvpth-63ef51dcf510.json\""
      ],
      "execution_count": 0,
      "outputs": []
    },
    {
      "cell_type": "code",
      "metadata": {
        "id": "LQlvXdE0wW6Y",
        "colab_type": "code",
        "colab": {}
      },
      "source": [
        "# Setting variables\n",
        "modelDir = \"models/AIDL_NER_DO-0.30_EP-20_80_PERC_DATA\""
      ],
      "execution_count": 0,
      "outputs": []
    },
    {
      "cell_type": "code",
      "metadata": {
        "id": "Uxy2g9YTw-Mq",
        "colab_type": "code",
        "colab": {}
      },
      "source": [
        "# Initializing vision API\n",
        "client = vision.ImageAnnotatorClient()\n",
        "\n",
        "# Loading the saved Spacy model\n",
        "nlp = spacy.load(modelDir)"
      ],
      "execution_count": 0,
      "outputs": []
    },
    {
      "cell_type": "code",
      "metadata": {
        "id": "aE1LGQBjxEtW",
        "colab_type": "code",
        "colab": {}
      },
      "source": [
        "def getOutput(type, data):\n",
        "  \"\"\"\n",
        "  Parameters: type: type of data, either img or txt\n",
        "  Output: Prints the dictionary\n",
        "  \"\"\"\n",
        "  textToPredict = \"\"\n",
        "  # Checking if file type is img or not\n",
        "  if (type == \"img\"):\n",
        "    with io.open(data, 'rb') as image_file:\n",
        "        # Reading file contente\n",
        "        content = image_file.read()\n",
        "        # Creating image format to match Vision API format\n",
        "        image = vision.types.Image(content=content)\n",
        "        # Getting results from Vision API\n",
        "        text_response = client.text_detection(image=image)\n",
        "        # Getting the text from the response\n",
        "        texts = [text.description for text in text_response.text_annotations]\n",
        "        # Storing data in variable\n",
        "        textToPredict = texts[0]\n",
        "  else:\n",
        "    # Opening txt file\n",
        "    f = open(data, \"r\")\n",
        "    # Storing data in variable\n",
        "    textToPredict = f.read()\n",
        "  # Sending textual data to Spacy model for NER\n",
        "  doc = nlp(textToPredict)\n",
        "  max_amt = 0\n",
        "  i = 1\n",
        "  data = {}\n",
        "  items_list = []\n",
        "  # Iterating over every entitiy to create a dictionary\n",
        "  for ent in doc.ents:\n",
        "    # Saving only one instance of Total Bill Amount\n",
        "    if (ent.label_ == \"Total bill amount\"):\n",
        "      try:\n",
        "        amt = float(ent.text)\n",
        "        if amt > max_amt:\n",
        "          data[\"Total bill amount\"] = amt\n",
        "      except Exception as e:\n",
        "        pass\n",
        "    # Creating a list of Items\n",
        "    elif (ent.label_ == \"Items\"):\n",
        "      try:\n",
        "        items_list.append(ent.text)\n",
        "      except Exception as e:\n",
        "        print(e)\n",
        "    # Checking if the detected key is already present in the key,\n",
        "    # If yes then we create a new key to store that value instead of overwriting the previous one\n",
        "    else:\n",
        "      if ent.label_ in data.keys():\n",
        "        data[ent.label_+\"-\"+str(i)] = ent.text\n",
        "        i +=1\n",
        "      else:\n",
        "        data[ent.label_] = ent.text\n",
        "  # Staring the list of items using the Items key in the dictionary\n",
        "  data[\"Items\"]=items_list\n",
        "  # Sorting all the elements of the dictionary\n",
        "  data = dict(sorted(data.items()))\n",
        "  # Printing final result\n",
        "  print(json.dumps(data, indent=2))"
      ],
      "execution_count": 0,
      "outputs": []
    },
    {
      "cell_type": "code",
      "metadata": {
        "id": "CKx5IwLNxHyf",
        "colab_type": "code",
        "outputId": "9987f7eb-1963-4c3b-d564-cd28cb5953c2",
        "colab": {
          "base_uri": "https://localhost:8080/",
          "height": 272
        }
      },
      "source": [
        "%time\n",
        "# Calling the function to get the output\n",
        "getOutput(\"img\", \"1.1.png\")"
      ],
      "execution_count": 50,
      "outputs": [
        {
          "output_type": "stream",
          "text": [
            "CPU times: user 2 µs, sys: 2 µs, total: 4 µs\n",
            "Wall time: 7.87 µs\n",
            "{\n",
            "  \"Date\": \"Date:2019-10-28\",\n",
            "  \"GSTIN\": \"33AAPFP2374MIZR\",\n",
            "  \"Invoice number\": \"219\",\n",
            "  \"Items\": [\n",
            "    \"Tandoori\\nPizzaiolo\",\n",
            "    \"Kebab Cobb\\nSalad\"\n",
            "  ],\n",
            "  \"Store address\": \"Palladium FC 04, No 142,\\nVelachery Main Road\\nChennai-600042\",\n",
            "  \"Store name\": \"lyfe by soul Garden Bistro\",\n",
            "  \"Time\": \"21:21:55\",\n",
            "  \"Total bill amount\": 890.0\n",
            "}\n"
          ],
          "name": "stdout"
        }
      ]
    },
    {
      "cell_type": "code",
      "metadata": {
        "id": "ls1CnqmMVZsb",
        "colab_type": "code",
        "colab": {
          "base_uri": "https://localhost:8080/",
          "height": 476
        },
        "outputId": "a2523225-76ed-469f-c8b3-527bbc3be9dc"
      },
      "source": [
        "%time\n",
        "# Calling the function to get the output\n",
        "getOutput(\"img\", \"1.jpg\")"
      ],
      "execution_count": 51,
      "outputs": [
        {
          "output_type": "stream",
          "text": [
            "CPU times: user 2 µs, sys: 1 µs, total: 3 µs\n",
            "Wall time: 4.77 µs\n",
            "{\n",
            "  \"Date\": \"28-Nov-19\",\n",
            "  \"GSTIN\": \"33AATCG73851125\",\n",
            "  \"Invoice number\": \"LTN02B1920003774\",\n",
            "  \"Items\": [\n",
            "    \"VEG RICE BOWL MEA\",\n",
            "    \"CLASSIC LEMONADE\",\n",
            "    \"MILD BASTING\\nGAL\",\n",
            "    \"VEG RICE BOWL MEA\",\n",
            "    \"CLASSIC LEMONADE\",\n",
            "    \"MILD BASTING\\n\",\n",
            "    \"VEG RICE BOWL MEA\\nGAL\",\n",
            "    \"CLASSIC LEMONADE\",\n",
            "    \"MILD BASTING GAL\",\n",
            "    \"QUARTER CHICKEN M\",\n",
            "    \"CORN ON THE COB\",\n",
            "    \"CLASSIC LEMONADE\",\n",
            "    \"MILD BASTING GAL\"\n",
            "  ],\n",
            "  \"Store address\": \"Unit No: UG-41,PMC,0ld Door.No. 66, New\\nDoor No. 142, Velaohery, Channai\",\n",
            "  \"Store name\": \"Calito's\",\n",
            "  \"Store name-1\": \"Galito's\",\n",
            "  \"Time\": \"16:47\",\n",
            "  \"Total bill amount\": 762.0\n",
            "}\n"
          ],
          "name": "stdout"
        }
      ]
    },
    {
      "cell_type": "code",
      "metadata": {
        "id": "MBHe7reoEItk",
        "colab_type": "code",
        "colab": {
          "base_uri": "https://localhost:8080/",
          "height": 221
        },
        "outputId": "9f77b84d-c491-4e1c-fe0a-0957bd0d9978"
      },
      "source": [
        "%time\n",
        "# Calling the function to get the output\n",
        "getOutput(\"img\", \"2.jpg\")"
      ],
      "execution_count": 52,
      "outputs": [
        {
          "output_type": "stream",
          "text": [
            "CPU times: user 2 µs, sys: 2 µs, total: 4 µs\n",
            "Wall time: 7.15 µs\n",
            "{\n",
            "  \"Date\": \"Date:2019-11-28\",\n",
            "  \"Invoice number\": \"1925\",\n",
            "  \"Items\": [\n",
            "    \"\\u0421\\u041d\\u041e\\u0421OLAT\\u0415 \\u041e\\nVERLOAD\"\n",
            "  ],\n",
            "  \"Store name\": \"Belgian Waffle\",\n",
            "  \"Time\": \"18:41:46\",\n",
            "  \"Total bill amount\": 140.0\n",
            "}\n"
          ],
          "name": "stdout"
        }
      ]
    },
    {
      "cell_type": "code",
      "metadata": {
        "id": "pYcOXy-pEIyQ",
        "colab_type": "code",
        "colab": {
          "base_uri": "https://localhost:8080/",
          "height": 255
        },
        "outputId": "3cd0a5a2-7c71-4040-bbe5-54743b95ec15"
      },
      "source": [
        "%time\n",
        "# Calling the function to get the output\n",
        "getOutput(\"img\", \"3.jpg\")"
      ],
      "execution_count": 53,
      "outputs": [
        {
          "output_type": "stream",
          "text": [
            "CPU times: user 3 µs, sys: 0 ns, total: 3 µs\n",
            "Wall time: 6.91 µs\n",
            "{\n",
            "  \"GSTIN\": \"33AAECT2235P 1Z6\",\n",
            "  \"Invoice number\": \"PM7332\",\n",
            "  \"Items\": [\n",
            "    \"H/S TOP XXL\",\n",
            "    \"TOP H/S B XXL\",\n",
            "    \"PAPER BAG M\"\n",
            "  ],\n",
            "  \"Store address\": \"142, VELACHERY ,MAIN ROAD,\\nPHOENIX MALL, SHOP NO.S-17 VELACHERY\\nVELACHERY\\nCHENNAI\",\n",
            "  \"Time\": \"07:51 PM\",\n",
            "  \"Total bill amount\": 269.0\n",
            "}\n"
          ],
          "name": "stdout"
        }
      ]
    },
    {
      "cell_type": "code",
      "metadata": {
        "id": "UbJDFZUlERys",
        "colab_type": "code",
        "colab": {
          "base_uri": "https://localhost:8080/",
          "height": 306
        },
        "outputId": "a55c9f31-56dd-4fb3-8fef-8eab337a644c"
      },
      "source": [
        "%time\n",
        "# Calling the function to get the output\n",
        "getOutput(\"txt\", \"sample.txt\")"
      ],
      "execution_count": 54,
      "outputs": [
        {
          "output_type": "stream",
          "text": [
            "CPU times: user 2 µs, sys: 1 µs, total: 3 µs\n",
            "Wall time: 5.48 µs\n",
            "{\n",
            "  \"Date\": \"29-11-2019\",\n",
            "  \"GSTIN\": \"33AAECA0726C1ZG\",\n",
            "  \"Invoice number\": \"201911291623\",\n",
            "  \"Items\": [\n",
            "    \"YOU ARE THE GREATE 1\",\n",
            "    \"ST MUG-FATHER\\nPRINTED PAPER MATT 1 35.00\",\n",
            "    \"CRAFT PAPER BAG- H 1 12.00\"\n",
            "  ],\n",
            "  \"Store address\": \"PHOENIX MARKETCITY\\nS-23,IIND FLOOR, 142, VELACHERY MAIN ROAD,\\nCHENNAI-600042\",\n",
            "  \"Store name\": \"ARCHIES\",\n",
            "  \"Store name-1\": \"ARCHIES\",\n",
            "  \"Time\": \"16:22\",\n",
            "  \"Total bill amount\": 434.0\n",
            "}\n"
          ],
          "name": "stdout"
        }
      ]
    },
    {
      "cell_type": "code",
      "metadata": {
        "id": "ewE8T-KDEdsI",
        "colab_type": "code",
        "colab": {
          "base_uri": "https://localhost:8080/",
          "height": 238
        },
        "outputId": "43c851e8-ff03-40e5-b865-b2b9986662f5"
      },
      "source": [
        "%time\n",
        "# Calling the function to get the output\n",
        "getOutput(\"img\", \"sea-lands.jpeg\")"
      ],
      "execution_count": 56,
      "outputs": [
        {
          "output_type": "stream",
          "text": [
            "CPU times: user 3 µs, sys: 0 ns, total: 3 µs\n",
            "Wall time: 6.2 µs\n",
            "{\n",
            "  \"GSTIN\": \"27AAIPS4809H1ZE\",\n",
            "  \"Items\": [\n",
            "    \"VEG TRIPLE SEZ FRIED\",\n",
            "    \"RICE\\nCOLD DRINK(500ML)\",\n",
            "    \"COLD DRINK\"\n",
            "  ],\n",
            "  \"Store name\": \"SEA LAND\",\n",
            "  \"Time\": \"03:30 PM\",\n",
            "  \"Total bill amount\": 262.5\n",
            "}\n"
          ],
          "name": "stdout"
        }
      ]
    }
  ]
}