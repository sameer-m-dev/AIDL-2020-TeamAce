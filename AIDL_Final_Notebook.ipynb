{
  "nbformat": 4,
  "nbformat_minor": 0,
  "metadata": {
    "colab": {
      "name": "AIDL Final Notebook.ipynb",
      "provenance": [],
      "collapsed_sections": []
    },
    "kernelspec": {
      "name": "python3",
      "display_name": "Python 3"
    }
  },
  "cells": [
    {
      "cell_type": "code",
      "execution_count": 0,
      "metadata": {
        "colab": {},
        "colab_type": "code",
        "id": "MsnPa2cFwr2Z"
      },
      "outputs": [],
      "source": [
        "# Uncomment below lines on first run\n",
        "# !pip install spacy google-cloud-vision"
      ]
    },
    {
      "cell_type": "code",
      "execution_count": 6,
      "metadata": {
        "colab": {
          "base_uri": "https://localhost:8080/",
          "height": 663
        },
        "colab_type": "code",
        "id": "Cke7hzChzMAz",
        "outputId": "dc63f999-8cf4-416e-83b6-5b25c334fc8a"
      },
      "outputs": [
        {
          "name": "stdout",
          "output_type": "stream",
          "text": [
            "Archive:  models.zip\n",
            "   creating: models/AIDL_NER_DO-0.30_EP-20_100_PERC_DATA/\n",
            "  inflating: models/AIDL_NER_DO-0.30_EP-20_100_PERC_DATA/meta.json  \n",
            "   creating: models/AIDL_NER_DO-0.30_EP-20_100_PERC_DATA/ner/\n",
            "  inflating: models/AIDL_NER_DO-0.30_EP-20_100_PERC_DATA/ner/cfg  \n",
            "  inflating: models/AIDL_NER_DO-0.30_EP-20_100_PERC_DATA/ner/model  \n",
            "  inflating: models/AIDL_NER_DO-0.30_EP-20_100_PERC_DATA/ner/moves  \n",
            "  inflating: models/AIDL_NER_DO-0.30_EP-20_100_PERC_DATA/tokenizer  \n",
            "   creating: models/AIDL_NER_DO-0.30_EP-20_100_PERC_DATA/vocab/\n",
            " extracting: models/AIDL_NER_DO-0.30_EP-20_100_PERC_DATA/vocab/key2row  \n",
            "  inflating: models/AIDL_NER_DO-0.30_EP-20_100_PERC_DATA/vocab/lexemes.bin  \n",
            "  inflating: models/AIDL_NER_DO-0.30_EP-20_100_PERC_DATA/vocab/strings.json  \n",
            "  inflating: models/AIDL_NER_DO-0.30_EP-20_100_PERC_DATA/vocab/vectors  \n",
            "   creating: models/AIDL_NER_DO-0.30_EP-20_80_PERC_DATA/\n",
            "  inflating: models/AIDL_NER_DO-0.30_EP-20_80_PERC_DATA/meta.json  \n",
            "   creating: models/AIDL_NER_DO-0.30_EP-20_80_PERC_DATA/ner/\n",
            "  inflating: models/AIDL_NER_DO-0.30_EP-20_80_PERC_DATA/ner/cfg  \n",
            "  inflating: models/AIDL_NER_DO-0.30_EP-20_80_PERC_DATA/ner/model  \n",
            "  inflating: models/AIDL_NER_DO-0.30_EP-20_80_PERC_DATA/ner/moves  \n",
            "  inflating: models/AIDL_NER_DO-0.30_EP-20_80_PERC_DATA/tokenizer  \n",
            "   creating: models/AIDL_NER_DO-0.30_EP-20_80_PERC_DATA/vocab/\n",
            " extracting: models/AIDL_NER_DO-0.30_EP-20_80_PERC_DATA/vocab/key2row  \n",
            "  inflating: models/AIDL_NER_DO-0.30_EP-20_80_PERC_DATA/vocab/lexemes.bin  \n",
            "  inflating: models/AIDL_NER_DO-0.30_EP-20_80_PERC_DATA/vocab/strings.json  \n",
            "  inflating: models/AIDL_NER_DO-0.30_EP-20_80_PERC_DATA/vocab/vectors  \n",
            "   creating: models/AIDL_NER_DO-0.30_EP-20_90_PERC_DATA/\n",
            "  inflating: models/AIDL_NER_DO-0.30_EP-20_90_PERC_DATA/meta.json  \n",
            "   creating: models/AIDL_NER_DO-0.30_EP-20_90_PERC_DATA/ner/\n",
            "  inflating: models/AIDL_NER_DO-0.30_EP-20_90_PERC_DATA/ner/cfg  \n",
            "  inflating: models/AIDL_NER_DO-0.30_EP-20_90_PERC_DATA/ner/model  \n",
            "  inflating: models/AIDL_NER_DO-0.30_EP-20_90_PERC_DATA/ner/moves  \n",
            "  inflating: models/AIDL_NER_DO-0.30_EP-20_90_PERC_DATA/tokenizer  \n",
            "   creating: models/AIDL_NER_DO-0.30_EP-20_90_PERC_DATA/vocab/\n",
            " extracting: models/AIDL_NER_DO-0.30_EP-20_90_PERC_DATA/vocab/key2row  \n",
            "  inflating: models/AIDL_NER_DO-0.30_EP-20_90_PERC_DATA/vocab/lexemes.bin  \n",
            "  inflating: models/AIDL_NER_DO-0.30_EP-20_90_PERC_DATA/vocab/strings.json  \n",
            "  inflating: models/AIDL_NER_DO-0.30_EP-20_90_PERC_DATA/vocab/vectors  \n",
            "  inflating: models/run.py           \n"
          ]
        }
      ],
      "source": [
        "# Unzipping model files\n",
        "! unzip models.zip"
      ]
    },
    {
      "cell_type": "code",
      "execution_count": 0,
      "metadata": {
        "colab": {},
        "colab_type": "code",
        "id": "k0KSuevWv4dd"
      },
      "outputs": [],
      "source": [
        "# Importing Libraries\n",
        "import spacy\n",
        "import os \n",
        "import json\n",
        "from google.cloud import vision\n",
        "import io\n",
        "\n",
        "# Setting Environment Variable for Vision API\n",
        "os.environ[\"GOOGLE_APPLICATION_CREDENTIALS\"]=\"/content/fyp-bot-fkvpth-63ef51dcf510.json\""
      ]
    },
    {
      "cell_type": "code",
      "execution_count": 0,
      "metadata": {
        "colab": {},
        "colab_type": "code",
        "id": "LQlvXdE0wW6Y"
      },
      "outputs": [],
      "source": [
        "# Setting variables\n",
        "modelDir = \"models/AIDL_NER_DO-0.30_EP-20_90_PERC_DATA\"\n",
        "fileType = \"img\"\n",
        "filename = \"sample.jpg\""
      ]
    },
    {
      "cell_type": "code",
      "execution_count": 0,
      "metadata": {
        "colab": {},
        "colab_type": "code",
        "id": "Uxy2g9YTw-Mq"
      },
      "outputs": [],
      "source": [
        "# Initializing vision API\n",
        "client = vision.ImageAnnotatorClient()\n",
        "\n",
        "# Loading the saved Spacy model\n",
        "nlp = spacy.load(modelDir)"
      ]
    },
    {
      "cell_type": "code",
      "execution_count": 0,
      "metadata": {
        "colab": {},
        "colab_type": "code",
        "id": "aE1LGQBjxEtW"
      },
      "outputs": [],
      "source": [
        "def getOutput(type, data):\n",
        "  \"\"\"\n",
        "  Parameters: type: type of data, either img or txt\n",
        "  Output: Prints the dictionary\n",
        "  \"\"\"\n",
        "  textToPredict = \"\"\n",
        "  # Checking if file type is img or not\n",
        "  if (type == \"img\"):\n",
        "    with io.open(data, 'rb') as image_file:\n",
        "        # Reading file contente\n",
        "        content = image_file.read()\n",
        "        # Creating image format to match Vision API format\n",
        "        image = vision.types.Image(content=content)\n",
        "        # Getting results from Vision API\n",
        "        text_response = client.text_detection(image=image)\n",
        "        # Getting the text from the response\n",
        "        texts = [text.description for text in text_response.text_annotations]\n",
        "        # Storing data in variable\n",
        "        textToPredict = texts[0]\n",
        "  else:\n",
        "    # Opening txt file\n",
        "    f = open(data, \"r\")\n",
        "    # Storing data in variable\n",
        "    textToPredict = f.read()\n",
        "  # Sending textual data to Spacy model for NER\n",
        "  doc = nlp(textToPredict)\n",
        "  max_amt = 0\n",
        "  i = 1\n",
        "  data = {}\n",
        "  items_list = []\n",
        "  # Iterating over every entitiy to create a dictionary\n",
        "  for ent in doc.ents:\n",
        "    # Saving only one instance of Total Bill Amount\n",
        "    if (ent.label_ == \"Total bill amount\"):\n",
        "      try:\n",
        "        amt = float(ent.text)\n",
        "        if amt > max_amt:\n",
        "          data[\"Total bill amount\"] = amt\n",
        "      except Exception as e:\n",
        "        pass\n",
        "    # Creating a list of Items\n",
        "    elif (ent.label_ == \"Items\"):\n",
        "      try:\n",
        "        items_list.append(ent.text)\n",
        "      except Exception as e:\n",
        "        print(e)\n",
        "    # Checking if the detected key is already present in the key,\n",
        "    # If yes then we create a new key to store that value instead of overwriting the previous one\n",
        "    else:\n",
        "      if ent.label_ in data.keys():\n",
        "        data[ent.label_+\"-\"+str(i)] = ent.text\n",
        "        i +=1\n",
        "      else:\n",
        "        data[ent.label_] = ent.text\n",
        "  # Staring the list of items using the Items key in the dictionary\n",
        "  data[\"Items\"]=items_list\n",
        "  # Sorting all the elements of the dictionary\n",
        "  data = dict(sorted(data.items()))\n",
        "  # Printing final result\n",
        "  print(json.dumps(data, indent=2))"
      ]
    },
    {
      "cell_type": "code",
      "execution_count": 14,
      "metadata": {
        "colab": {
          "base_uri": "https://localhost:8080/",
          "height": 289
        },
        "colab_type": "code",
        "id": "CKx5IwLNxHyf",
        "outputId": "f595d45f-3aa8-4e74-cacd-e3eec92dce48"
      },
      "outputs": [
        {
          "name": "stdout",
          "output_type": "stream",
          "text": [
            "CPU times: user 3 µs, sys: 0 ns, total: 3 µs\n",
            "Wall time: 7.15 µs\n",
            "{\n",
            "  \"Date\": \"29-11-2019\",\n",
            "  \"Invoice number\": \"201911291623\",\n",
            "  \"Items\": [\n",
            "    \"YOU ARE THE GREATE\\nST MUG-FATHER\",\n",
            "    \"PRINTED PAPER MATT\\nER\\nCRAFT PAPER BAG- H\"\n",
            "  ],\n",
            "  \"Store address\": \"PHOENIX MARKETCITY\\n\",\n",
            "  \"Store address-2\": \"S-23,IIND FLOOR, 142, VELACHERY MAIN ROAD,\\nCHENNAI-600042\",\n",
            "  \"Store name\": \"ARCHIES\",\n",
            "  \"Store name-1\": \"ARCHIES\",\n",
            "  \"Time\": \"16:22\",\n",
            "  \"Total bill amount\": 434.0\n",
            "}\n"
          ]
        }
      ],
      "source": [
        "%time\n",
        "# Calling the function to get the output\n",
        "getOutput(fileType, filename)"
      ]
    }
  ]
}